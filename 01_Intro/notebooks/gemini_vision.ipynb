{
  "cells": [
    {
      "cell_type": "markdown",
      "metadata": {
        "id": "No17Cw5hgx12"
      },
      "source": [
        "### Install Vertex AI SDK for Python\n"
      ]
    },
    {
      "cell_type": "code",
      "execution_count": null,
      "metadata": {
        "id": "tFy3H3aPgx12",
        "tags": []
      },
      "outputs": [],
      "source": [
        "! pip3 install --upgrade --user google-cloud-aiplatform requests"
      ]
    },
    {
      "cell_type": "markdown",
      "source": [
        "Ensure you restart the session after installing the packages to restart the run-time kernel."
      ],
      "metadata": {
        "id": "0s8uQ23rusWY"
      }
    },
    {
      "cell_type": "markdown",
      "metadata": {
        "id": "jXHfaVS66_01"
      },
      "source": [
        "### Import libraries\n"
      ]
    },
    {
      "cell_type": "code",
      "execution_count": null,
      "metadata": {
        "id": "lslYAvw37JGQ",
        "tags": []
      },
      "outputs": [],
      "source": [
        "from vertexai.generative_models import (\n",
        "    GenerativeModel,\n",
        "    Image,\n",
        "    Part,\n",
        ")"
      ]
    },
    {
      "cell_type": "markdown",
      "metadata": {
        "id": "FTMywdzUORIA"
      },
      "source": [
        "### Load the Gemini 1.5 Pro model\n"
      ]
    },
    {
      "cell_type": "code",
      "execution_count": null,
      "metadata": {
        "id": "lRyTw2iPhEXG",
        "tags": []
      },
      "outputs": [],
      "source": [
        "model = GenerativeModel(\"gemini-1.5-pro\")"
      ]
    },
    {
      "cell_type": "markdown",
      "source": [
        "### Generate text from image prompts\n",
        "\n",
        "Retrieve an image and send it to the model using its streaming interface."
      ],
      "metadata": {
        "id": "gimA6iUdRzaI"
      }
    },
    {
      "cell_type": "code",
      "source": [
        "import requests\n",
        "import IPython.display\n",
        "\n",
        "# Retrieve image of an AWS invoice\n",
        "url = \"https://thefengs.com/wuchang/courses/cs410g/files/invoice.jpg\"\n",
        "response = requests.get(url)\n",
        "image = Image.from_bytes(response.content)\n",
        "IPython.display.display(image)\n",
        "\n",
        "# Prompt for a JSON formatted output of the data in invoice.\n",
        "# Package image and prompt together and send it to the model\n",
        "prompt = \"Convert invoice data into json format with appropriate json tags as required for the data in the image\"\n",
        "contents = [image, prompt]\n",
        "responses = model.generate_content(contents, stream=True)\n",
        "\n",
        "# Print responses as they are returned\n",
        "print(\"\\n-------Response--------\")\n",
        "for response in responses:\n",
        "    print(response.text)\n"
      ],
      "metadata": {
        "id": "i_WnmUARFlTn"
      },
      "execution_count": null,
      "outputs": []
    },
    {
      "cell_type": "markdown",
      "metadata": {
        "id": "lwvfMDEDVyKI"
      },
      "source": [
        "#### Interactive interface\n",
        "\n",
        "We can use IPython's simple UI elements to implement an interactive interface. Experiment with queries against the model using it.\n"
      ]
    },
    {
      "cell_type": "code",
      "source": [
        "def get_image_from_url(image_url):\n",
        "  response = requests.get(image_url)\n",
        "  image = Image.from_bytes(response.content)\n",
        "  return(image)\n",
        "\n",
        "def query(url, prompt):\n",
        "  image = get_image_from_url(url)\n",
        "  print(\"-------Image--------\")\n",
        "  IPython.display.display(image)\n",
        "  print(\"-------Prompt--------\")\n",
        "  print(prompt)\n",
        "  contents = [get_image_from_url(url), prompt]\n",
        "  responses = model.generate_content(contents, stream=True)\n",
        "  # Print responses as they are returned\n",
        "  print(\"\\n-------Response--------\")\n",
        "  for response in responses:\n",
        "      print(response.text)\n",
        "\n",
        "from ipywidgets import widgets, Output\n",
        "\n",
        "output = Output()\n",
        "# Define button click event\n",
        "def on_button_click(b):\n",
        "    with output:\n",
        "        output.clear_output()\n",
        "        prompt = prompt_input.value\n",
        "        url = url_input.value\n",
        "        print(f\"[+] Query: Prompt is {prompt}\\n URL is {url}\")\n",
        "        query(url,prompt)\n",
        "\n",
        "# Create widgets\n",
        "prompt_input = widgets.Text(\n",
        "    value='What is this?',\n",
        "    placeholder='Enter prompt',\n",
        "    description='Prompt:',\n",
        "    disabled=False\n",
        ")\n",
        "url_input = widgets.Text(\n",
        "    value=\"https://thefengs.com/wuchang/courses/cs430/go-programming-language-turns-two_gophers.jpg\",\n",
        "    placeholder='Enter image URL',\n",
        "    description='URL:',\n",
        "    disabled=False\n",
        ")\n",
        "# Create a button\n",
        "button = widgets.Button(description=\"Run\")\n",
        "button.on_click(on_button_click)\n",
        "# Display widgets\n",
        "display(prompt_input, url_input, button)\n",
        "display(output)"
      ],
      "metadata": {
        "id": "n7WGaGAkT2fB"
      },
      "execution_count": null,
      "outputs": []
    },
    {
      "cell_type": "markdown",
      "metadata": {
        "id": "vyjpi1fB7mgj"
      },
      "source": [
        "### Video processing\n",
        "\n",
        "Models can also be used to analyze and generate video.  In this example, a short video of a city street is stored in a Google Cloud Storage bucket. Run the cell to examine it."
      ]
    },
    {
      "cell_type": "code",
      "execution_count": null,
      "metadata": {
        "id": "_RSr1M_RTZKD",
        "tags": []
      },
      "outputs": [],
      "source": [
        "video_url = \"https://storage.googleapis.com/cs430/chicago.mp4\"\n",
        "video_uri = \"gs://cs430/chicago.mp4\"\n",
        "\n",
        "IPython.display.Video(video_url, width=450)"
      ]
    },
    {
      "cell_type": "markdown",
      "source": [
        "We can ask the vision model to analyze the video for us and to generate a response in specific output format (Javascript Object Notation)."
      ],
      "metadata": {
        "id": "rVGcwQbebdlU"
      }
    },
    {
      "cell_type": "code",
      "execution_count": null,
      "metadata": {
        "id": "VXX1jLXq7ojB",
        "tags": []
      },
      "outputs": [],
      "source": [
        "prompt = \"\"\"\n",
        "Answer the following questions using the video only:\n",
        "What are the cars in this video?\n",
        "What is the red sculpture of?\n",
        "Which city was this recorded in?\n",
        "Provide the answer JSON.\n",
        "\"\"\"\n",
        "\n",
        "video = Part.from_uri(video_uri, mime_type=\"video/mp4\")\n",
        "contents = [prompt, video]\n",
        "\n",
        "responses = model.generate_content(contents, stream=True)\n",
        "\n",
        "for response in responses:\n",
        "    print(response.text, end=\"\")"
      ]
    }
  ],
  "metadata": {
    "colab": {
      "provenance": [],
      "name": "gemini_vision.ipynb"
    },
    "environment": {
      "kernel": "conda-root-py",
      "name": "workbench-notebooks.m115",
      "type": "gcloud",
      "uri": "gcr.io/deeplearning-platform-release/workbench-notebooks:m115"
    },
    "kernelspec": {
      "display_name": "Python 3 (ipykernel) (Local)",
      "language": "python",
      "name": "conda-root-py"
    },
    "language_info": {
      "codemirror_mode": {
        "name": "ipython",
        "version": 3
      },
      "file_extension": ".py",
      "mimetype": "text/x-python",
      "name": "python",
      "nbconvert_exporter": "python",
      "pygments_lexer": "ipython3",
      "version": "3.10.13"
    }
  },
  "nbformat": 4,
  "nbformat_minor": 0
}
